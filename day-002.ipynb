{
 "cells": [
  {
   "cell_type": "code",
   "execution_count": 23,
   "metadata": {},
   "outputs": [
    {
     "name": "stdout",
     "output_type": "stream",
     "text": [
      "The pycodestyle_magic extension is already loaded. To reload it, use:\n",
      "  %reload_ext pycodestyle_magic\n"
     ]
    }
   ],
   "source": [
    "%load_ext pycodestyle_magic\n",
    "%flake8_on"
   ]
  },
  {
   "cell_type": "code",
   "execution_count": 43,
   "metadata": {},
   "outputs": [],
   "source": [
    "from datetime import datetime\n",
    "import os\n",
    "import urllib.request"
   ]
  },
  {
   "cell_type": "code",
   "execution_count": 25,
   "metadata": {},
   "outputs": [],
   "source": [
    "SHUTDOWN_EVENT = 'Shutdown initiated'"
   ]
  },
  {
   "cell_type": "code",
   "execution_count": 26,
   "metadata": {},
   "outputs": [
    {
     "data": {
      "text/plain": [
       "('/tmp/log', <http.client.HTTPMessage at 0x7f360243c828>)"
      ]
     },
     "execution_count": 26,
     "metadata": {},
     "output_type": "execute_result"
    }
   ],
   "source": [
    "# prep: read in the logfile\n",
    "tmp = os.getenv(\"TMP\", \"/tmp\")\n",
    "logfile = os.path.join(tmp, \"log\")\n",
    "urllib.request.urlretrieve(\n",
    "    \"https://bites-data.s3.us-east-2.amazonaws.com/messages.log\", logfile\n",
    ")"
   ]
  },
  {
   "cell_type": "code",
   "execution_count": 27,
   "metadata": {},
   "outputs": [],
   "source": [
    "with open(logfile) as f:\n",
    "    loglines = f.readlines()"
   ]
  },
  {
   "cell_type": "code",
   "execution_count": 42,
   "metadata": {},
   "outputs": [],
   "source": [
    "def convert_to_datetime(line):\n",
    "    \"\"\"TODO 1:\n",
    "       Extract timestamp from logline and convert it to a datetime object.\n",
    "       For example calling the function with:\n",
    "       INFO 2014-07-03T23:27:51 supybot Shutdown complete.\n",
    "       returns:\n",
    "       datetime(2014, 7, 3, 23, 27, 51)\n",
    "    \"\"\"\n",
    "    timestamp = line.split(\" \")[1]\n",
    "    date = timestamp.split(\"T\")[0]\n",
    "    date = date.split(\"-\")\n",
    "    time = timestamp.split(\"T\")[1]\n",
    "    time = time.split(\":\")\n",
    "    return datetime(int(date[0]), int(date[1]), int(date[2]), int(time[0]), int(time[1]), int(time[2]))"
   ]
  },
  {
   "cell_type": "code",
   "execution_count": 29,
   "metadata": {},
   "outputs": [],
   "source": [
    "def time_between_shutdowns(loglines):\n",
    "    \"\"\"TODO 2:\n",
    "       Extract shutdown events (\"Shutdown initiated\") from loglines and\n",
    "       calculate the timedelta between the first and last one.\n",
    "       Return this datetime.timedelta object.\n",
    "    \"\"\"\n",
    "    shutdown_time = []\n",
    "    for line in loglines:\n",
    "        if SHUTDOWN_EVENT in line:\n",
    "            shutdown_time.append(convert_to_datetime(line))\n",
    "    return shutdown_time[-1] - shutdown_time[0]"
   ]
  },
  {
   "cell_type": "code",
   "execution_count": 30,
   "metadata": {},
   "outputs": [
    {
     "data": {
      "text/plain": [
       "datetime.timedelta(0, 211)"
      ]
     },
     "execution_count": 30,
     "metadata": {},
     "output_type": "execute_result"
    }
   ],
   "source": [
    "time_between_shutdowns(loglines)"
   ]
  },
  {
   "cell_type": "code",
   "execution_count": 31,
   "metadata": {},
   "outputs": [],
   "source": [
    "class Person:\n",
    "    def __init__(self, first_name, email):\n",
    "        self.first_name = first_name\n",
    "        self._email = email"
   ]
  },
  {
   "cell_type": "code",
   "execution_count": 10,
   "metadata": {},
   "outputs": [],
   "source": [
    "person_one = Person(\"Dipak\", \"Dt@gmail.com\")"
   ]
  },
  {
   "cell_type": "code",
   "execution_count": 11,
   "metadata": {},
   "outputs": [],
   "source": [
    "person_one._email = \"d@gmail\""
   ]
  },
  {
   "cell_type": "markdown",
   "metadata": {},
   "source": [
    "### https://codechalleng.es/bites/67/"
   ]
  },
  {
   "cell_type": "code",
   "execution_count": 12,
   "metadata": {},
   "outputs": [],
   "source": [
    "from datetime import date, timedelta"
   ]
  },
  {
   "cell_type": "code",
   "execution_count": 13,
   "metadata": {},
   "outputs": [],
   "source": [
    "start_100days = date(2017, 3, 30)\n",
    "pybites_founded = date(2016, 12, 19)\n",
    "pycon_date = date(2018, 5, 8)"
   ]
  },
  {
   "cell_type": "code",
   "execution_count": 14,
   "metadata": {},
   "outputs": [],
   "source": [
    "def get_hundred_days_end_date():\n",
    "    \"\"\"Return a string of yyyy-mm-dd\"\"\"\n",
    "    return str(start_100days + timedelta(days=100))"
   ]
  },
  {
   "cell_type": "code",
   "execution_count": 15,
   "metadata": {},
   "outputs": [],
   "source": [
    "def get_days_between_pb_start_first_joint_pycon():\n",
    "    \"\"\"Return the int number of days\"\"\"\n",
    "    return (pycon_date - pybites_founded).days"
   ]
  },
  {
   "cell_type": "markdown",
   "metadata": {},
   "source": [
    "### https://codechalleng.es/bites/128/"
   ]
  },
  {
   "cell_type": "code",
   "execution_count": 16,
   "metadata": {},
   "outputs": [],
   "source": [
    "from datetime import datetime"
   ]
  },
  {
   "cell_type": "code",
   "execution_count": 20,
   "metadata": {},
   "outputs": [],
   "source": [
    "THIS_YEAR = 2018\n",
    "\n",
    "\n",
    "def years_ago(date):\n",
    "    \"\"\"Receives a date string of 'DD MMM, YYYY', for example: 8 Aug, 2015\n",
    "       Convert this date str to a datetime object (use strptime).\n",
    "       Then extract the year from the obtained datetime object and subtract\n",
    "       it from the THIS_YEAR constant above, returning the int difference.\n",
    "       So in this example you would get: 2018 - 2015 = 3\"\"\"\n",
    "    return THIS_YEAR - datetime.strptime(date, '%d %b, %Y').year"
   ]
  },
  {
   "cell_type": "code",
   "execution_count": 21,
   "metadata": {},
   "outputs": [],
   "source": [
    "def convert_eu_to_us_date(date):\n",
    "    \"\"\"Receives a date string in European format of dd/mm/yyyy, e.g. 11/03/2002\n",
    "       Convert it to an American date: mm/dd/yyyy (in this case 03/11/2002).\n",
    "       To enforce the use of datetime's strptime / strftime (over slicing)\n",
    "       the tests check if a ValueError is raised for invalid day/month/year\n",
    "       ranges (no need to code this, datetime does this out of the box)\"\"\"\n",
    "    return datetime.strptime(date, '%d/%m/%Y').strftime('%m/%d/%Y')"
   ]
  }
 ],
 "metadata": {
  "kernelspec": {
   "display_name": "Python 3",
   "language": "python",
   "name": "python3"
  },
  "language_info": {
   "codemirror_mode": {
    "name": "ipython",
    "version": 3
   },
   "file_extension": ".py",
   "mimetype": "text/x-python",
   "name": "python",
   "nbconvert_exporter": "python",
   "pygments_lexer": "ipython3",
   "version": "3.6.8"
  }
 },
 "nbformat": 4,
 "nbformat_minor": 2
}
